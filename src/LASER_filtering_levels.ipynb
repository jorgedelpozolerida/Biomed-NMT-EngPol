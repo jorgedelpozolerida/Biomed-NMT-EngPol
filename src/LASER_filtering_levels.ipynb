{
 "cells": [
  {
   "cell_type": "code",
   "execution_count": 1,
   "metadata": {},
   "outputs": [],
   "source": [
    "import pandas as pd"
   ]
  },
  {
   "cell_type": "code",
   "execution_count": 2,
   "metadata": {},
   "outputs": [],
   "source": [
    "data = pd.read_csv(\"../datasets/trainval_set_v3.tsv\", delimiter=\"\\t\")\n",
    "similarities = pd.read_csv(\"../datasets/LASER_similarity.tsv\")\n",
    "combined = data.merge(similarities, on=\"id\", how=\"inner\")"
   ]
  },
  {
   "cell_type": "code",
   "execution_count": 3,
   "metadata": {},
   "outputs": [
    {
     "data": {
      "text/html": [
       "<div>\n",
       "<style scoped>\n",
       "    .dataframe tbody tr th:only-of-type {\n",
       "        vertical-align: middle;\n",
       "    }\n",
       "\n",
       "    .dataframe tbody tr th {\n",
       "        vertical-align: top;\n",
       "    }\n",
       "\n",
       "    .dataframe thead th {\n",
       "        text-align: right;\n",
       "    }\n",
       "</style>\n",
       "<table border=\"1\" class=\"dataframe\">\n",
       "  <thead>\n",
       "    <tr style=\"text-align: right;\">\n",
       "      <th></th>\n",
       "      <th>id</th>\n",
       "      <th>score</th>\n",
       "    </tr>\n",
       "  </thead>\n",
       "  <tbody>\n",
       "    <tr>\n",
       "      <th>0</th>\n",
       "      <td>14466574</td>\n",
       "      <td>0.898581</td>\n",
       "    </tr>\n",
       "    <tr>\n",
       "      <th>1</th>\n",
       "      <td>23812236</td>\n",
       "      <td>0.567550</td>\n",
       "    </tr>\n",
       "    <tr>\n",
       "      <th>2</th>\n",
       "      <td>11834247</td>\n",
       "      <td>0.715229</td>\n",
       "    </tr>\n",
       "    <tr>\n",
       "      <th>3</th>\n",
       "      <td>30649221</td>\n",
       "      <td>0.844954</td>\n",
       "    </tr>\n",
       "    <tr>\n",
       "      <th>4</th>\n",
       "      <td>25824079</td>\n",
       "      <td>0.632475</td>\n",
       "    </tr>\n",
       "    <tr>\n",
       "      <th>...</th>\n",
       "      <td>...</td>\n",
       "      <td>...</td>\n",
       "    </tr>\n",
       "    <tr>\n",
       "      <th>711715</th>\n",
       "      <td>22715788</td>\n",
       "      <td>0.918971</td>\n",
       "    </tr>\n",
       "    <tr>\n",
       "      <th>711716</th>\n",
       "      <td>3821855</td>\n",
       "      <td>0.869424</td>\n",
       "    </tr>\n",
       "    <tr>\n",
       "      <th>711717</th>\n",
       "      <td>20622458</td>\n",
       "      <td>0.709278</td>\n",
       "    </tr>\n",
       "    <tr>\n",
       "      <th>711718</th>\n",
       "      <td>36160198</td>\n",
       "      <td>0.900981</td>\n",
       "    </tr>\n",
       "    <tr>\n",
       "      <th>711719</th>\n",
       "      <td>5426867</td>\n",
       "      <td>0.912120</td>\n",
       "    </tr>\n",
       "  </tbody>\n",
       "</table>\n",
       "<p>711720 rows × 2 columns</p>\n",
       "</div>"
      ],
      "text/plain": [
       "              id     score\n",
       "0       14466574  0.898581\n",
       "1       23812236  0.567550\n",
       "2       11834247  0.715229\n",
       "3       30649221  0.844954\n",
       "4       25824079  0.632475\n",
       "...          ...       ...\n",
       "711715  22715788  0.918971\n",
       "711716   3821855  0.869424\n",
       "711717  20622458  0.709278\n",
       "711718  36160198  0.900981\n",
       "711719   5426867  0.912120\n",
       "\n",
       "[711720 rows x 2 columns]"
      ]
     },
     "execution_count": 3,
     "metadata": {},
     "output_type": "execute_result"
    }
   ],
   "source": [
    "combined = combined[[\"id\", \"score\"]]\n",
    "combined"
   ]
  },
  {
   "cell_type": "code",
   "execution_count": 4,
   "metadata": {},
   "outputs": [],
   "source": [
    "# Calculate quantiles\n",
    "quantiles = [0.2, 0.4, 0.6, 0.8]  # 20th, 40th, 60th, and 80th percentiles\n",
    "quantile_values = combined['score'].quantile(quantiles)"
   ]
  },
  {
   "cell_type": "code",
   "execution_count": 5,
   "metadata": {},
   "outputs": [
    {
     "data": {
      "text/plain": [
       "0.2    0.753974\n",
       "0.4    0.827883\n",
       "0.6    0.870952\n",
       "0.8    0.908012\n",
       "Name: score, dtype: float64"
      ]
     },
     "execution_count": 5,
     "metadata": {},
     "output_type": "execute_result"
    }
   ],
   "source": [
    "quantile_values"
   ]
  },
  {
   "cell_type": "markdown",
   "metadata": {},
   "source": [
    "Threshold = 20th percentile, so remove the first 20% of the data, so everything below threshold = 0.762666"
   ]
  },
  {
   "cell_type": "code",
   "execution_count": 6,
   "metadata": {},
   "outputs": [
    {
     "data": {
      "text/html": [
       "<div>\n",
       "<style scoped>\n",
       "    .dataframe tbody tr th:only-of-type {\n",
       "        vertical-align: middle;\n",
       "    }\n",
       "\n",
       "    .dataframe tbody tr th {\n",
       "        vertical-align: top;\n",
       "    }\n",
       "\n",
       "    .dataframe thead th {\n",
       "        text-align: right;\n",
       "    }\n",
       "</style>\n",
       "<table border=\"1\" class=\"dataframe\">\n",
       "  <thead>\n",
       "    <tr style=\"text-align: right;\">\n",
       "      <th></th>\n",
       "      <th>id</th>\n",
       "      <th>score</th>\n",
       "    </tr>\n",
       "  </thead>\n",
       "  <tbody>\n",
       "    <tr>\n",
       "      <th>0</th>\n",
       "      <td>14466574</td>\n",
       "      <td>0.898581</td>\n",
       "    </tr>\n",
       "    <tr>\n",
       "      <th>3</th>\n",
       "      <td>30649221</td>\n",
       "      <td>0.844954</td>\n",
       "    </tr>\n",
       "    <tr>\n",
       "      <th>5</th>\n",
       "      <td>29354410</td>\n",
       "      <td>0.828576</td>\n",
       "    </tr>\n",
       "    <tr>\n",
       "      <th>6</th>\n",
       "      <td>22229922</td>\n",
       "      <td>0.906971</td>\n",
       "    </tr>\n",
       "    <tr>\n",
       "      <th>7</th>\n",
       "      <td>4802488</td>\n",
       "      <td>0.943593</td>\n",
       "    </tr>\n",
       "    <tr>\n",
       "      <th>...</th>\n",
       "      <td>...</td>\n",
       "      <td>...</td>\n",
       "    </tr>\n",
       "    <tr>\n",
       "      <th>711712</th>\n",
       "      <td>3092080</td>\n",
       "      <td>0.870473</td>\n",
       "    </tr>\n",
       "    <tr>\n",
       "      <th>711715</th>\n",
       "      <td>22715788</td>\n",
       "      <td>0.918971</td>\n",
       "    </tr>\n",
       "    <tr>\n",
       "      <th>711716</th>\n",
       "      <td>3821855</td>\n",
       "      <td>0.869424</td>\n",
       "    </tr>\n",
       "    <tr>\n",
       "      <th>711718</th>\n",
       "      <td>36160198</td>\n",
       "      <td>0.900981</td>\n",
       "    </tr>\n",
       "    <tr>\n",
       "      <th>711719</th>\n",
       "      <td>5426867</td>\n",
       "      <td>0.912120</td>\n",
       "    </tr>\n",
       "  </tbody>\n",
       "</table>\n",
       "<p>569464 rows × 2 columns</p>\n",
       "</div>"
      ],
      "text/plain": [
       "              id     score\n",
       "0       14466574  0.898581\n",
       "3       30649221  0.844954\n",
       "5       29354410  0.828576\n",
       "6       22229922  0.906971\n",
       "7        4802488  0.943593\n",
       "...          ...       ...\n",
       "711712   3092080  0.870473\n",
       "711715  22715788  0.918971\n",
       "711716   3821855  0.869424\n",
       "711718  36160198  0.900981\n",
       "711719   5426867  0.912120\n",
       "\n",
       "[569464 rows x 2 columns]"
      ]
     },
     "execution_count": 6,
     "metadata": {},
     "output_type": "execute_result"
    }
   ],
   "source": [
    "first_20_percent_removed = combined.loc[combined[\"score\"] > 0.753974]\n",
    "first_20_percent_removed"
   ]
  },
  {
   "cell_type": "code",
   "execution_count": 7,
   "metadata": {},
   "outputs": [],
   "source": [
    "first_20_percent_removed.to_csv(\"LASER_above_quantile_20.tsv\")"
   ]
  },
  {
   "cell_type": "code",
   "execution_count": 8,
   "metadata": {},
   "outputs": [],
   "source": [
    "first_40_percent_removed = combined.loc[combined[\"score\"] > 0.827883]\n",
    "first_40_percent_removed\n",
    "first_40_percent_removed.to_csv(\"LASER_above_quantile_40.tsv\")"
   ]
  },
  {
   "cell_type": "code",
   "execution_count": 9,
   "metadata": {},
   "outputs": [],
   "source": [
    "first_60_percent_removed = combined.loc[combined[\"score\"] > 0.870952]\n",
    "first_60_percent_removed\n",
    "first_60_percent_removed.to_csv(\"LASER_above_quantile_60.tsv\")"
   ]
  },
  {
   "cell_type": "code",
   "execution_count": 10,
   "metadata": {},
   "outputs": [],
   "source": [
    "first_80_percent_removed = combined.loc[combined[\"score\"] > 0.908012]\n",
    "first_80_percent_removed\n",
    "first_80_percent_removed.to_csv(\"LASER_above_quantile_80.tsv\")"
   ]
  }
 ],
 "metadata": {
  "kernelspec": {
   "display_name": "venv",
   "language": "python",
   "name": "python3"
  },
  "language_info": {
   "codemirror_mode": {
    "name": "ipython",
    "version": 3
   },
   "file_extension": ".py",
   "mimetype": "text/x-python",
   "name": "python",
   "nbconvert_exporter": "python",
   "pygments_lexer": "ipython3",
   "version": "3.10.13"
  }
 },
 "nbformat": 4,
 "nbformat_minor": 2
}
