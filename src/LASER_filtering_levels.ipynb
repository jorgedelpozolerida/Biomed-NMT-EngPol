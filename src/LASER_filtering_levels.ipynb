{
 "cells": [
  {
   "cell_type": "code",
   "execution_count": 1,
   "metadata": {},
   "outputs": [],
   "source": [
    "import pandas as pd"
   ]
  },
  {
   "cell_type": "code",
   "execution_count": 2,
   "metadata": {},
   "outputs": [],
   "source": [
    "data = pd.read_csv(\"../data/medical_corpus_clean_preprocessed.tsv\")\n",
    "similarities = pd.read_csv(\"../data/LASER_similarity.tsv\")\n",
    "combined = data.merge(similarities, on=\"id\", how=\"inner\")"
   ]
  },
  {
   "cell_type": "code",
   "execution_count": 4,
   "metadata": {},
   "outputs": [
    {
     "data": {
      "text/html": [
       "<div>\n",
       "<style scoped>\n",
       "    .dataframe tbody tr th:only-of-type {\n",
       "        vertical-align: middle;\n",
       "    }\n",
       "\n",
       "    .dataframe tbody tr th {\n",
       "        vertical-align: top;\n",
       "    }\n",
       "\n",
       "    .dataframe thead th {\n",
       "        text-align: right;\n",
       "    }\n",
       "</style>\n",
       "<table border=\"1\" class=\"dataframe\">\n",
       "  <thead>\n",
       "    <tr style=\"text-align: right;\">\n",
       "      <th></th>\n",
       "      <th>id</th>\n",
       "      <th>score</th>\n",
       "    </tr>\n",
       "  </thead>\n",
       "  <tbody>\n",
       "    <tr>\n",
       "      <th>0</th>\n",
       "      <td>14466574</td>\n",
       "      <td>0.898581</td>\n",
       "    </tr>\n",
       "    <tr>\n",
       "      <th>1</th>\n",
       "      <td>23812236</td>\n",
       "      <td>0.567550</td>\n",
       "    </tr>\n",
       "    <tr>\n",
       "      <th>2</th>\n",
       "      <td>11834247</td>\n",
       "      <td>0.715229</td>\n",
       "    </tr>\n",
       "    <tr>\n",
       "      <th>3</th>\n",
       "      <td>30649221</td>\n",
       "      <td>0.844954</td>\n",
       "    </tr>\n",
       "    <tr>\n",
       "      <th>4</th>\n",
       "      <td>25824079</td>\n",
       "      <td>0.632475</td>\n",
       "    </tr>\n",
       "    <tr>\n",
       "      <th>...</th>\n",
       "      <td>...</td>\n",
       "      <td>...</td>\n",
       "    </tr>\n",
       "    <tr>\n",
       "      <th>884765</th>\n",
       "      <td>3821855</td>\n",
       "      <td>0.869424</td>\n",
       "    </tr>\n",
       "    <tr>\n",
       "      <th>884766</th>\n",
       "      <td>20622458</td>\n",
       "      <td>0.709278</td>\n",
       "    </tr>\n",
       "    <tr>\n",
       "      <th>884767</th>\n",
       "      <td>36160198</td>\n",
       "      <td>0.900981</td>\n",
       "    </tr>\n",
       "    <tr>\n",
       "      <th>884768</th>\n",
       "      <td>5426867</td>\n",
       "      <td>0.912120</td>\n",
       "    </tr>\n",
       "    <tr>\n",
       "      <th>884769</th>\n",
       "      <td>3548782</td>\n",
       "      <td>0.470301</td>\n",
       "    </tr>\n",
       "  </tbody>\n",
       "</table>\n",
       "<p>884770 rows × 2 columns</p>\n",
       "</div>"
      ],
      "text/plain": [
       "              id     score\n",
       "0       14466574  0.898581\n",
       "1       23812236  0.567550\n",
       "2       11834247  0.715229\n",
       "3       30649221  0.844954\n",
       "4       25824079  0.632475\n",
       "...          ...       ...\n",
       "884765   3821855  0.869424\n",
       "884766  20622458  0.709278\n",
       "884767  36160198  0.900981\n",
       "884768   5426867  0.912120\n",
       "884769   3548782  0.470301\n",
       "\n",
       "[884770 rows x 2 columns]"
      ]
     },
     "execution_count": 4,
     "metadata": {},
     "output_type": "execute_result"
    }
   ],
   "source": [
    "combined = combined[[\"id\", \"score\"]]\n",
    "combined"
   ]
  },
  {
   "cell_type": "code",
   "execution_count": 7,
   "metadata": {},
   "outputs": [],
   "source": [
    "# Calculate quantiles\n",
    "quantiles = [0.2, 0.4, 0.6, 0.8]  # 20th, 40th, 60th, and 80th percentiles\n",
    "quantile_values = combined['score'].quantile(quantiles)"
   ]
  },
  {
   "cell_type": "code",
   "execution_count": 8,
   "metadata": {},
   "outputs": [
    {
     "data": {
      "text/plain": [
       "0.2    0.762666\n",
       "0.4    0.838903\n",
       "0.6    0.881485\n",
       "0.8    0.916839\n",
       "Name: score, dtype: float64"
      ]
     },
     "execution_count": 8,
     "metadata": {},
     "output_type": "execute_result"
    }
   ],
   "source": [
    "quantile_values"
   ]
  },
  {
   "cell_type": "markdown",
   "metadata": {},
   "source": [
    "Threshold = 20th percentile, so remove the first 20% of the data, so everything below threshold = 0.762666"
   ]
  },
  {
   "cell_type": "code",
   "execution_count": 9,
   "metadata": {},
   "outputs": [
    {
     "data": {
      "text/html": [
       "<div>\n",
       "<style scoped>\n",
       "    .dataframe tbody tr th:only-of-type {\n",
       "        vertical-align: middle;\n",
       "    }\n",
       "\n",
       "    .dataframe tbody tr th {\n",
       "        vertical-align: top;\n",
       "    }\n",
       "\n",
       "    .dataframe thead th {\n",
       "        text-align: right;\n",
       "    }\n",
       "</style>\n",
       "<table border=\"1\" class=\"dataframe\">\n",
       "  <thead>\n",
       "    <tr style=\"text-align: right;\">\n",
       "      <th></th>\n",
       "      <th>id</th>\n",
       "      <th>score</th>\n",
       "    </tr>\n",
       "  </thead>\n",
       "  <tbody>\n",
       "    <tr>\n",
       "      <th>0</th>\n",
       "      <td>14466574</td>\n",
       "      <td>0.898581</td>\n",
       "    </tr>\n",
       "    <tr>\n",
       "      <th>3</th>\n",
       "      <td>30649221</td>\n",
       "      <td>0.844954</td>\n",
       "    </tr>\n",
       "    <tr>\n",
       "      <th>5</th>\n",
       "      <td>30513235</td>\n",
       "      <td>0.924158</td>\n",
       "    </tr>\n",
       "    <tr>\n",
       "      <th>6</th>\n",
       "      <td>29354410</td>\n",
       "      <td>0.828576</td>\n",
       "    </tr>\n",
       "    <tr>\n",
       "      <th>7</th>\n",
       "      <td>22229922</td>\n",
       "      <td>0.906971</td>\n",
       "    </tr>\n",
       "    <tr>\n",
       "      <th>...</th>\n",
       "      <td>...</td>\n",
       "      <td>...</td>\n",
       "    </tr>\n",
       "    <tr>\n",
       "      <th>884763</th>\n",
       "      <td>22715788</td>\n",
       "      <td>0.918971</td>\n",
       "    </tr>\n",
       "    <tr>\n",
       "      <th>884764</th>\n",
       "      <td>19426515</td>\n",
       "      <td>0.858833</td>\n",
       "    </tr>\n",
       "    <tr>\n",
       "      <th>884765</th>\n",
       "      <td>3821855</td>\n",
       "      <td>0.869424</td>\n",
       "    </tr>\n",
       "    <tr>\n",
       "      <th>884767</th>\n",
       "      <td>36160198</td>\n",
       "      <td>0.900981</td>\n",
       "    </tr>\n",
       "    <tr>\n",
       "      <th>884768</th>\n",
       "      <td>5426867</td>\n",
       "      <td>0.912120</td>\n",
       "    </tr>\n",
       "  </tbody>\n",
       "</table>\n",
       "<p>707595 rows × 2 columns</p>\n",
       "</div>"
      ],
      "text/plain": [
       "              id     score\n",
       "0       14466574  0.898581\n",
       "3       30649221  0.844954\n",
       "5       30513235  0.924158\n",
       "6       29354410  0.828576\n",
       "7       22229922  0.906971\n",
       "...          ...       ...\n",
       "884763  22715788  0.918971\n",
       "884764  19426515  0.858833\n",
       "884765   3821855  0.869424\n",
       "884767  36160198  0.900981\n",
       "884768   5426867  0.912120\n",
       "\n",
       "[707595 rows x 2 columns]"
      ]
     },
     "execution_count": 9,
     "metadata": {},
     "output_type": "execute_result"
    }
   ],
   "source": [
    "first_20_percent_removed = combined.loc[combined[\"score\"] > 0.762666]\n",
    "first_20_percent_removed"
   ]
  },
  {
   "cell_type": "code",
   "execution_count": 10,
   "metadata": {},
   "outputs": [],
   "source": [
    "first_20_percent_removed.to_csv(\"LASER_above_quantile_20.tsv\")"
   ]
  },
  {
   "cell_type": "code",
   "execution_count": 11,
   "metadata": {},
   "outputs": [],
   "source": [
    "first_40_percent_removed = combined.loc[combined[\"score\"] > 0.838903]\n",
    "first_40_percent_removed\n",
    "first_40_percent_removed.to_csv(\"LASER_above_quantile_40.tsv\")"
   ]
  },
  {
   "cell_type": "code",
   "execution_count": 12,
   "metadata": {},
   "outputs": [],
   "source": [
    "first_60_percent_removed = combined.loc[combined[\"score\"] > 0.881485]\n",
    "first_60_percent_removed\n",
    "first_60_percent_removed.to_csv(\"LASER_above_quantile_60.tsv\")"
   ]
  },
  {
   "cell_type": "code",
   "execution_count": 13,
   "metadata": {},
   "outputs": [],
   "source": [
    "first_80_percent_removed = combined.loc[combined[\"score\"] > 0.916839]\n",
    "first_80_percent_removed\n",
    "first_80_percent_removed.to_csv(\"LASER_above_quantile_80.tsv\")"
   ]
  }
 ],
 "metadata": {
  "kernelspec": {
   "display_name": "venv",
   "language": "python",
   "name": "python3"
  },
  "language_info": {
   "codemirror_mode": {
    "name": "ipython",
    "version": 3
   },
   "file_extension": ".py",
   "mimetype": "text/x-python",
   "name": "python",
   "nbconvert_exporter": "python",
   "pygments_lexer": "ipython3",
   "version": "3.11.6"
  }
 },
 "nbformat": 4,
 "nbformat_minor": 2
}
