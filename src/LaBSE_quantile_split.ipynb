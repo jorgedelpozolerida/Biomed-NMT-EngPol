{
 "cells": [
  {
   "cell_type": "code",
   "execution_count": 2,
   "metadata": {},
   "outputs": [],
   "source": [
    "# Imports\n",
    "import pandas as pd"
   ]
  },
  {
   "cell_type": "code",
   "execution_count": 19,
   "metadata": {},
   "outputs": [],
   "source": [
    "# Load data\n",
    "labse = pd.read_csv('LaBSE_scores.csv')\n",
    "clean = pd.read_csv('trainval_set_v3.tsv', delimiter='\\t')"
   ]
  },
  {
   "cell_type": "code",
   "execution_count": 29,
   "metadata": {},
   "outputs": [
    {
     "data": {
      "text/html": [
       "<div>\n",
       "<style scoped>\n",
       "    .dataframe tbody tr th:only-of-type {\n",
       "        vertical-align: middle;\n",
       "    }\n",
       "\n",
       "    .dataframe tbody tr th {\n",
       "        vertical-align: top;\n",
       "    }\n",
       "\n",
       "    .dataframe thead th {\n",
       "        text-align: right;\n",
       "    }\n",
       "</style>\n",
       "<table border=\"1\" class=\"dataframe\">\n",
       "  <thead>\n",
       "    <tr style=\"text-align: right;\">\n",
       "      <th></th>\n",
       "      <th>id</th>\n",
       "      <th>score</th>\n",
       "    </tr>\n",
       "  </thead>\n",
       "  <tbody>\n",
       "    <tr>\n",
       "      <th>0</th>\n",
       "      <td>14466574</td>\n",
       "      <td>0.878513</td>\n",
       "    </tr>\n",
       "    <tr>\n",
       "      <th>1</th>\n",
       "      <td>23812236</td>\n",
       "      <td>0.617198</td>\n",
       "    </tr>\n",
       "    <tr>\n",
       "      <th>2</th>\n",
       "      <td>11834247</td>\n",
       "      <td>0.868299</td>\n",
       "    </tr>\n",
       "    <tr>\n",
       "      <th>3</th>\n",
       "      <td>30649221</td>\n",
       "      <td>0.923940</td>\n",
       "    </tr>\n",
       "    <tr>\n",
       "      <th>4</th>\n",
       "      <td>25824079</td>\n",
       "      <td>0.805234</td>\n",
       "    </tr>\n",
       "    <tr>\n",
       "      <th>...</th>\n",
       "      <td>...</td>\n",
       "      <td>...</td>\n",
       "    </tr>\n",
       "    <tr>\n",
       "      <th>711715</th>\n",
       "      <td>22715788</td>\n",
       "      <td>0.939928</td>\n",
       "    </tr>\n",
       "    <tr>\n",
       "      <th>711716</th>\n",
       "      <td>3821855</td>\n",
       "      <td>0.857187</td>\n",
       "    </tr>\n",
       "    <tr>\n",
       "      <th>711717</th>\n",
       "      <td>20622458</td>\n",
       "      <td>0.800515</td>\n",
       "    </tr>\n",
       "    <tr>\n",
       "      <th>711718</th>\n",
       "      <td>36160198</td>\n",
       "      <td>0.921195</td>\n",
       "    </tr>\n",
       "    <tr>\n",
       "      <th>711719</th>\n",
       "      <td>5426867</td>\n",
       "      <td>0.886510</td>\n",
       "    </tr>\n",
       "  </tbody>\n",
       "</table>\n",
       "<p>711720 rows × 2 columns</p>\n",
       "</div>"
      ],
      "text/plain": [
       "              id     score\n",
       "0       14466574  0.878513\n",
       "1       23812236  0.617198\n",
       "2       11834247  0.868299\n",
       "3       30649221  0.923940\n",
       "4       25824079  0.805234\n",
       "...          ...       ...\n",
       "711715  22715788  0.939928\n",
       "711716   3821855  0.857187\n",
       "711717  20622458  0.800515\n",
       "711718  36160198  0.921195\n",
       "711719   5426867  0.886510\n",
       "\n",
       "[711720 rows x 2 columns]"
      ]
     },
     "execution_count": 29,
     "metadata": {},
     "output_type": "execute_result"
    }
   ],
   "source": [
    "# Merge data to get only the training sentences and view dataframe\n",
    "merged = clean.merge(labse, how='left', left_on='id', right_on='id')\n",
    "merged"
   ]
  },
  {
   "cell_type": "code",
   "execution_count": 31,
   "metadata": {},
   "outputs": [
    {
     "data": {
      "text/plain": [
       "0.2    0.832769\n",
       "0.4    0.885565\n",
       "0.6    0.913940\n",
       "0.8    0.939058\n",
       "Name: score, dtype: float64"
      ]
     },
     "execution_count": 31,
     "metadata": {},
     "output_type": "execute_result"
    }
   ],
   "source": [
    "# Define set of quantiles and get their values\n",
    "quantiles = [0.2, 0.4, 0.6, 0.8]\n",
    "quantile_values = merged['score'].quantile(quantiles)\n",
    "quantile_values"
   ]
  },
  {
   "cell_type": "code",
   "execution_count": 13,
   "metadata": {},
   "outputs": [],
   "source": [
    "# Generate the quantile dataframes\n",
    "LABSE_above_quantile_20 = merged.loc[merged['score'] > 0.837948]\n",
    "LABSE_above_quantile_40 = merged.loc[merged['score'] > 0.887518]\n",
    "LABSE_above_quantile_60 = merged.loc[merged['score'] > 0.913971]\n",
    "LABSE_above_quantile_80 = merged.loc[merged['score'] > 0.937491]"
   ]
  },
  {
   "cell_type": "code",
   "execution_count": 15,
   "metadata": {},
   "outputs": [],
   "source": [
    "# Save the dataframes as tsv\n",
    "LABSE_above_quantile_20.to_csv('LABSE_above_quantile_20.tsv', sep='\\t', index=False)\n",
    "LABSE_above_quantile_40.to_csv('LABSE_above_quantile_40.tsv', sep='\\t', index=False)\n",
    "LABSE_above_quantile_60.to_csv('LABSE_above_quantile_60.tsv', sep='\\t', index=False)\n",
    "LABSE_above_quantile_80.to_csv('LABSE_above_quantile_80.tsv', sep='\\t', index=False)"
   ]
  }
 ],
 "metadata": {
  "kernelspec": {
   "display_name": "base",
   "language": "python",
   "name": "python3"
  },
  "language_info": {
   "codemirror_mode": {
    "name": "ipython",
    "version": 3
   },
   "file_extension": ".py",
   "mimetype": "text/x-python",
   "name": "python",
   "nbconvert_exporter": "python",
   "pygments_lexer": "ipython3",
   "version": "3.9.12"
  }
 },
 "nbformat": 4,
 "nbformat_minor": 2
}
