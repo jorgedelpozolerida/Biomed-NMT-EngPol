{
  "cells": [
    {
      "cell_type": "code",
      "execution_count": 95,
      "metadata": {
        "id": "RN7hqRq9Le-8"
      },
      "outputs": [],
      "source": [
        "import numpy as np\n",
        "import pandas as pd\n",
        "import seaborn as sns\n",
        "from sklearn.metrics.pairwise import cosine_similarity"
      ]
    },
    {
      "cell_type": "code",
      "execution_count": 96,
      "metadata": {
        "id": "G8SLtCXCcOmV"
      },
      "outputs": [],
      "source": [
        "pd.set_option('display.max_colwidth', None)"
      ]
    },
    {
      "cell_type": "code",
      "execution_count": 97,
      "metadata": {
        "colab": {
          "base_uri": "https://localhost:8080/",
          "height": 424
        },
        "id": "MQ0iF4PYRRoJ",
        "outputId": "286f0bbc-6b79-4dd8-e2b3-429e247e95d2"
      },
      "outputs": [
        {
          "data": {
            "text/html": [
              "<div>\n",
              "<style scoped>\n",
              "    .dataframe tbody tr th:only-of-type {\n",
              "        vertical-align: middle;\n",
              "    }\n",
              "\n",
              "    .dataframe tbody tr th {\n",
              "        vertical-align: top;\n",
              "    }\n",
              "\n",
              "    .dataframe thead th {\n",
              "        text-align: right;\n",
              "    }\n",
              "</style>\n",
              "<table border=\"1\" class=\"dataframe\">\n",
              "  <thead>\n",
              "    <tr style=\"text-align: right;\">\n",
              "      <th></th>\n",
              "      <th>id</th>\n",
              "      <th>pol</th>\n",
              "      <th>eng</th>\n",
              "    </tr>\n",
              "  </thead>\n",
              "  <tbody>\n",
              "    <tr>\n",
              "      <th>0</th>\n",
              "      <td>9099592</td>\n",
              "      <td>1/ 31 1.</td>\n",
              "      <td>1/ 31 1.</td>\n",
              "    </tr>\n",
              "    <tr>\n",
              "      <th>1</th>\n",
              "      <td>14466574</td>\n",
              "      <td>Urządzenia do odtworzenia i podawania dostarczane są w każdym opakowaniu Helixate NexGen 250 j. m.</td>\n",
              "      <td>Medical devices for reconstitution and administration are provided with each package of Helixate NexGen 250 IU.</td>\n",
              "    </tr>\n",
              "    <tr>\n",
              "      <th>2</th>\n",
              "      <td>23812236</td>\n",
              "      <td>DOTYCZĄCE DOSTAWY I STOSOWANIA</td>\n",
              "      <td>Veterinary medicinal product subject to prescription.</td>\n",
              "    </tr>\n",
              "    <tr>\n",
              "      <th>3</th>\n",
              "      <td>11834247</td>\n",
              "      <td>51 jeśli u pacjenta wystąpi ból górnej części brzucha po lewej stronie lub ból na szczycie barku; •</td>\n",
              "      <td>• if you get left upper abdominal pain or pain at the tip of your shoulder;</td>\n",
              "    </tr>\n",
              "    <tr>\n",
              "      <th>4</th>\n",
              "      <td>30649221</td>\n",
              "      <td>Wydłużenie czasu protrombinowego (PT) (w przypadku jednoczesnego stosowania antagonistów witaminy K).</td>\n",
              "      <td>Prothrombin time (PT) increase (with concomitant vitamin K antagonist therapy).</td>\n",
              "    </tr>\n",
              "    <tr>\n",
              "      <th>...</th>\n",
              "      <td>...</td>\n",
              "      <td>...</td>\n",
              "      <td>...</td>\n",
              "    </tr>\n",
              "    <tr>\n",
              "      <th>1073449</th>\n",
              "      <td>20622458</td>\n",
              "      <td>Delikatnie postukać w strzykawkę, aby usunąć pęcherzyki powietrza.</td>\n",
              "      <td>To remove any bubbles, gently tap the syringe.</td>\n",
              "    </tr>\n",
              "    <tr>\n",
              "      <th>1073450</th>\n",
              "      <td>36160198</td>\n",
              "      <td>dorosłych pacjentów z nowo rozpoznaną ostrą białaczką limfoblastyczną z chromosomem Philadelphia (Ph+ ALL) w skojarzeniu z chemioterapią.</td>\n",
              "      <td>adult patients with newly diagnosed Philadelphia chromosome positive acute lymphoblastic leukaemia (Ph+ ALL) integrated with chemotherapy.</td>\n",
              "    </tr>\n",
              "    <tr>\n",
              "      <th>1073451</th>\n",
              "      <td>5426867</td>\n",
              "      <td>Podczas stosowania przewlekłego w badaniu RE–LY leki z grupy NLPZ zwiększały ryzyko krwawienia o około 50% zarówno w przypadku eteksylanu dabigatranu, jak i warfaryny.</td>\n",
              "      <td>With chronic use in the RE-LY study, NSAIDs increased the risk of bleeding by approximately 50 % on both dabigatran etexilate and warfarin.</td>\n",
              "    </tr>\n",
              "    <tr>\n",
              "      <th>1073452</th>\n",
              "      <td>12827040</td>\n",
              "      <td>Bardzo rzadko: ginekomastia</td>\n",
              "      <td>Depression.</td>\n",
              "    </tr>\n",
              "    <tr>\n",
              "      <th>1073453</th>\n",
              "      <td>3548782</td>\n",
              "      <td>Jak przechowywać lek Tamiflu</td>\n",
              "      <td>Each hard capsule contains oseltamivir equivalent to 75 mg of oseltamivir The other ingredients are: capsule contents: pregelatinised starch, talc, povidone, croscarmellose sodium and sodium stearyl fumarate capsule shell: gelatin, yellow iron oxide (E172), red iron oxide (E172), black iron oxide (E172) and titanium dioxide (E171) printing ink: shellac (E904), titanium dioxide (E171) FD and C Blue 2 (indigo carmine E132).</td>\n",
              "    </tr>\n",
              "  </tbody>\n",
              "</table>\n",
              "<p>1073454 rows × 3 columns</p>\n",
              "</div>"
            ],
            "text/plain": [
              "               id  \\\n",
              "0         9099592   \n",
              "1        14466574   \n",
              "2        23812236   \n",
              "3        11834247   \n",
              "4        30649221   \n",
              "...           ...   \n",
              "1073449  20622458   \n",
              "1073450  36160198   \n",
              "1073451   5426867   \n",
              "1073452  12827040   \n",
              "1073453   3548782   \n",
              "\n",
              "                                                                                                                                                                             pol  \\\n",
              "0                                                                                                                                                                       1/ 31 1.   \n",
              "1                                                                             Urządzenia do odtworzenia i podawania dostarczane są w każdym opakowaniu Helixate NexGen 250 j. m.   \n",
              "2                                                                                                                                                 DOTYCZĄCE DOSTAWY I STOSOWANIA   \n",
              "3                                                                            51 jeśli u pacjenta wystąpi ból górnej części brzucha po lewej stronie lub ból na szczycie barku; •   \n",
              "4                                                                          Wydłużenie czasu protrombinowego (PT) (w przypadku jednoczesnego stosowania antagonistów witaminy K).   \n",
              "...                                                                                                                                                                          ...   \n",
              "1073449                                                                                                       Delikatnie postukać w strzykawkę, aby usunąć pęcherzyki powietrza.   \n",
              "1073450                                dorosłych pacjentów z nowo rozpoznaną ostrą białaczką limfoblastyczną z chromosomem Philadelphia (Ph+ ALL) w skojarzeniu z chemioterapią.   \n",
              "1073451  Podczas stosowania przewlekłego w badaniu RE–LY leki z grupy NLPZ zwiększały ryzyko krwawienia o około 50% zarówno w przypadku eteksylanu dabigatranu, jak i warfaryny.   \n",
              "1073452                                                                                                                                              Bardzo rzadko: ginekomastia   \n",
              "1073453                                                                                                                                             Jak przechowywać lek Tamiflu   \n",
              "\n",
              "                                                                                                                                                                                                                                                                                                                                                                                                                                               eng  \n",
              "0                                                                                                                                                                                                                                                                                                                                                                                                                                         1/ 31 1.  \n",
              "1                                                                                                                                                                                                                                                                                                                                  Medical devices for reconstitution and administration are provided with each package of Helixate NexGen 250 IU.  \n",
              "2                                                                                                                                                                                                                                                                                                                                                                                            Veterinary medicinal product subject to prescription.  \n",
              "3                                                                                                                                                                                                                                                                                                                                                                      • if you get left upper abdominal pain or pain at the tip of your shoulder;  \n",
              "4                                                                                                                                                                                                                                                                                                                                                                  Prothrombin time (PT) increase (with concomitant vitamin K antagonist therapy).  \n",
              "...                                                                                                                                                                                                                                                                                                                                                                                                                                            ...  \n",
              "1073449                                                                                                                                                                                                                                                                                                                                                                                             To remove any bubbles, gently tap the syringe.  \n",
              "1073450                                                                                                                                                                                                                                                                                                 adult patients with newly diagnosed Philadelphia chromosome positive acute lymphoblastic leukaemia (Ph+ ALL) integrated with chemotherapy.  \n",
              "1073451                                                                                                                                                                                                                                                                                                With chronic use in the RE-LY study, NSAIDs increased the risk of bleeding by approximately 50 % on both dabigatran etexilate and warfarin.  \n",
              "1073452                                                                                                                                                                                                                                                                                                                                                                                                                                Depression.  \n",
              "1073453  Each hard capsule contains oseltamivir equivalent to 75 mg of oseltamivir The other ingredients are: capsule contents: pregelatinised starch, talc, povidone, croscarmellose sodium and sodium stearyl fumarate capsule shell: gelatin, yellow iron oxide (E172), red iron oxide (E172), black iron oxide (E172) and titanium dioxide (E171) printing ink: shellac (E904), titanium dioxide (E171) FD and C Blue 2 (indigo carmine E132).  \n",
              "\n",
              "[1073454 rows x 3 columns]"
            ]
          },
          "execution_count": 97,
          "metadata": {},
          "output_type": "execute_result"
        }
      ],
      "source": [
        "df = pd.read_csv(\"../data/medical_corpus_clean.tsv\", sep=',')\n",
        "df = df[[\"id\", \"pol\", \"eng\"]]\n",
        "#df['pol'] = df['pol'].str.lower()\n",
        "#df['eng'] = df['eng'].str.lower()\n",
        "df"
      ]
    },
    {
      "cell_type": "code",
      "execution_count": 98,
      "metadata": {},
      "outputs": [
        {
          "data": {
            "text/html": [
              "<div>\n",
              "<style scoped>\n",
              "    .dataframe tbody tr th:only-of-type {\n",
              "        vertical-align: middle;\n",
              "    }\n",
              "\n",
              "    .dataframe tbody tr th {\n",
              "        vertical-align: top;\n",
              "    }\n",
              "\n",
              "    .dataframe thead th {\n",
              "        text-align: right;\n",
              "    }\n",
              "</style>\n",
              "<table border=\"1\" class=\"dataframe\">\n",
              "  <thead>\n",
              "    <tr style=\"text-align: right;\">\n",
              "      <th></th>\n",
              "      <th>id</th>\n",
              "      <th>pol</th>\n",
              "      <th>eng</th>\n",
              "      <th>Unnamed: 0</th>\n",
              "    </tr>\n",
              "  </thead>\n",
              "  <tbody>\n",
              "    <tr>\n",
              "      <th>0</th>\n",
              "      <td>14466574</td>\n",
              "      <td>Urządzenia do odtworzenia i podawania dostarczane są w każdym opakowaniu Helixate NexGen 250 j. m.</td>\n",
              "      <td>Medical devices for reconstitution and administration are provided with each package of Helixate NexGen 250 IU.</td>\n",
              "      <td>1</td>\n",
              "    </tr>\n",
              "    <tr>\n",
              "      <th>1</th>\n",
              "      <td>23812236</td>\n",
              "      <td>DOTYCZĄCE DOSTAWY I STOSOWANIA</td>\n",
              "      <td>Veterinary medicinal product subject to prescription.</td>\n",
              "      <td>2</td>\n",
              "    </tr>\n",
              "    <tr>\n",
              "      <th>2</th>\n",
              "      <td>11834247</td>\n",
              "      <td>51 jeśli u pacjenta wystąpi ból górnej części brzucha po lewej stronie lub ból na szczycie barku; •</td>\n",
              "      <td>• if you get left upper abdominal pain or pain at the tip of your shoulder;</td>\n",
              "      <td>3</td>\n",
              "    </tr>\n",
              "    <tr>\n",
              "      <th>3</th>\n",
              "      <td>30649221</td>\n",
              "      <td>Wydłużenie czasu protrombinowego (PT) (w przypadku jednoczesnego stosowania antagonistów witaminy K).</td>\n",
              "      <td>Prothrombin time (PT) increase (with concomitant vitamin K antagonist therapy).</td>\n",
              "      <td>4</td>\n",
              "    </tr>\n",
              "    <tr>\n",
              "      <th>4</th>\n",
              "      <td>25824079</td>\n",
              "      <td>Zaburzenia serca</td>\n",
              "      <td>Eye disorders Cardiac disorders</td>\n",
              "      <td>5</td>\n",
              "    </tr>\n",
              "    <tr>\n",
              "      <th>...</th>\n",
              "      <td>...</td>\n",
              "      <td>...</td>\n",
              "      <td>...</td>\n",
              "      <td>...</td>\n",
              "    </tr>\n",
              "    <tr>\n",
              "      <th>884765</th>\n",
              "      <td>3821855</td>\n",
              "      <td>Zmiany obecne po 1 miesiącu podawania produktu były zasadniczo odwracalne w czasie do 1 miesiąca po zaprzestaniu podawania produktu, za wyjątkiem częściowego ustąpienia niektórych zmian w rogówce.</td>\n",
              "      <td>The findings present following 1 month of dosing were largely reversible within 1 month of cessation of dosing with the exception of partial recovery for some of the corneal changes.</td>\n",
              "      <td>1073448</td>\n",
              "    </tr>\n",
              "    <tr>\n",
              "      <th>884766</th>\n",
              "      <td>20622458</td>\n",
              "      <td>Delikatnie postukać w strzykawkę, aby usunąć pęcherzyki powietrza.</td>\n",
              "      <td>To remove any bubbles, gently tap the syringe.</td>\n",
              "      <td>1073449</td>\n",
              "    </tr>\n",
              "    <tr>\n",
              "      <th>884767</th>\n",
              "      <td>36160198</td>\n",
              "      <td>dorosłych pacjentów z nowo rozpoznaną ostrą białaczką limfoblastyczną z chromosomem Philadelphia (Ph+ ALL) w skojarzeniu z chemioterapią.</td>\n",
              "      <td>adult patients with newly diagnosed Philadelphia chromosome positive acute lymphoblastic leukaemia (Ph+ ALL) integrated with chemotherapy.</td>\n",
              "      <td>1073450</td>\n",
              "    </tr>\n",
              "    <tr>\n",
              "      <th>884768</th>\n",
              "      <td>5426867</td>\n",
              "      <td>Podczas stosowania przewlekłego w badaniu RE–LY leki z grupy NLPZ zwiększały ryzyko krwawienia o około 50% zarówno w przypadku eteksylanu dabigatranu, jak i warfaryny.</td>\n",
              "      <td>With chronic use in the RE-LY study, NSAIDs increased the risk of bleeding by approximately 50 % on both dabigatran etexilate and warfarin.</td>\n",
              "      <td>1073451</td>\n",
              "    </tr>\n",
              "    <tr>\n",
              "      <th>884769</th>\n",
              "      <td>3548782</td>\n",
              "      <td>Jak przechowywać lek Tamiflu</td>\n",
              "      <td>Each hard capsule contains oseltamivir equivalent to 75 mg of oseltamivir The other ingredients are: capsule contents: pregelatinised starch, talc, povidone, croscarmellose sodium and sodium stearyl fumarate capsule shell: gelatin, yellow iron oxide (E172), red iron oxide (E172), black iron oxide (E172) and titanium dioxide (E171) printing ink: shellac (E904), titanium dioxide (E171) FD and C Blue 2 (indigo carmine E132).</td>\n",
              "      <td>1073453</td>\n",
              "    </tr>\n",
              "  </tbody>\n",
              "</table>\n",
              "<p>884770 rows × 4 columns</p>\n",
              "</div>"
            ],
            "text/plain": [
              "              id  \\\n",
              "0       14466574   \n",
              "1       23812236   \n",
              "2       11834247   \n",
              "3       30649221   \n",
              "4       25824079   \n",
              "...          ...   \n",
              "884765   3821855   \n",
              "884766  20622458   \n",
              "884767  36160198   \n",
              "884768   5426867   \n",
              "884769   3548782   \n",
              "\n",
              "                                                                                                                                                                                                         pol  \\\n",
              "0                                                                                                         Urządzenia do odtworzenia i podawania dostarczane są w każdym opakowaniu Helixate NexGen 250 j. m.   \n",
              "1                                                                                                                                                                             DOTYCZĄCE DOSTAWY I STOSOWANIA   \n",
              "2                                                                                                        51 jeśli u pacjenta wystąpi ból górnej części brzucha po lewej stronie lub ból na szczycie barku; •   \n",
              "3                                                                                                      Wydłużenie czasu protrombinowego (PT) (w przypadku jednoczesnego stosowania antagonistów witaminy K).   \n",
              "4                                                                                                                                                                                           Zaburzenia serca   \n",
              "...                                                                                                                                                                                                      ...   \n",
              "884765  Zmiany obecne po 1 miesiącu podawania produktu były zasadniczo odwracalne w czasie do 1 miesiąca po zaprzestaniu podawania produktu, za wyjątkiem częściowego ustąpienia niektórych zmian w rogówce.   \n",
              "884766                                                                                                                                    Delikatnie postukać w strzykawkę, aby usunąć pęcherzyki powietrza.   \n",
              "884767                                                             dorosłych pacjentów z nowo rozpoznaną ostrą białaczką limfoblastyczną z chromosomem Philadelphia (Ph+ ALL) w skojarzeniu z chemioterapią.   \n",
              "884768                               Podczas stosowania przewlekłego w badaniu RE–LY leki z grupy NLPZ zwiększały ryzyko krwawienia o około 50% zarówno w przypadku eteksylanu dabigatranu, jak i warfaryny.   \n",
              "884769                                                                                                                                                                          Jak przechowywać lek Tamiflu   \n",
              "\n",
              "                                                                                                                                                                                                                                                                                                                                                                                                                                              eng  \\\n",
              "0                                                                                                                                                                                                                                                                                                                                 Medical devices for reconstitution and administration are provided with each package of Helixate NexGen 250 IU.   \n",
              "1                                                                                                                                                                                                                                                                                                                                                                                           Veterinary medicinal product subject to prescription.   \n",
              "2                                                                                                                                                                                                                                                                                                                                                                     • if you get left upper abdominal pain or pain at the tip of your shoulder;   \n",
              "3                                                                                                                                                                                                                                                                                                                                                                 Prothrombin time (PT) increase (with concomitant vitamin K antagonist therapy).   \n",
              "4                                                                                                                                                                                                                                                                                                                                                                                                                 Eye disorders Cardiac disorders   \n",
              "...                                                                                                                                                                                                                                                                                                                                                                                                                                           ...   \n",
              "884765                                                                                                                                                                                                                                                     The findings present following 1 month of dosing were largely reversible within 1 month of cessation of dosing with the exception of partial recovery for some of the corneal changes.   \n",
              "884766                                                                                                                                                                                                                                                                                                                                                                                             To remove any bubbles, gently tap the syringe.   \n",
              "884767                                                                                                                                                                                                                                                                                                 adult patients with newly diagnosed Philadelphia chromosome positive acute lymphoblastic leukaemia (Ph+ ALL) integrated with chemotherapy.   \n",
              "884768                                                                                                                                                                                                                                                                                                With chronic use in the RE-LY study, NSAIDs increased the risk of bleeding by approximately 50 % on both dabigatran etexilate and warfarin.   \n",
              "884769  Each hard capsule contains oseltamivir equivalent to 75 mg of oseltamivir The other ingredients are: capsule contents: pregelatinised starch, talc, povidone, croscarmellose sodium and sodium stearyl fumarate capsule shell: gelatin, yellow iron oxide (E172), red iron oxide (E172), black iron oxide (E172) and titanium dioxide (E171) printing ink: shellac (E904), titanium dioxide (E171) FD and C Blue 2 (indigo carmine E132).   \n",
              "\n",
              "        Unnamed: 0  \n",
              "0                1  \n",
              "1                2  \n",
              "2                3  \n",
              "3                4  \n",
              "4                5  \n",
              "...            ...  \n",
              "884765     1073448  \n",
              "884766     1073449  \n",
              "884767     1073450  \n",
              "884768     1073451  \n",
              "884769     1073453  \n",
              "\n",
              "[884770 rows x 4 columns]"
            ]
          },
          "execution_count": 98,
          "metadata": {},
          "output_type": "execute_result"
        }
      ],
      "source": [
        "ids = pd.read_csv(\"../data/preprocessed_ids.tsv\", sep=',')\n",
        "df = pd.merge(df, ids, on='id', how='inner')\n",
        "df"
      ]
    },
    {
      "cell_type": "code",
      "execution_count": 99,
      "metadata": {
        "colab": {
          "base_uri": "https://localhost:8080/"
        },
        "id": "IjTTI6YKAskp",
        "outputId": "32ce7e16-ac2e-4b4b-c881-56504255ade2"
      },
      "outputs": [],
      "source": [
        "def load_embeddings(file_path):\n",
        "    embeddings = {}\n",
        "    with open(file_path, 'r', encoding='utf-8') as f:\n",
        "        for line in f:\n",
        "            values = line.rstrip().split(' ')\n",
        "            word = values[0]\n",
        "            vector = np.array(values[1:], dtype=np.float64)\n",
        "            embeddings[word] = vector\n",
        "    return embeddings\n",
        "\n",
        "en_file_path = '../muse/wiki.multi.en.vec'\n",
        "pl_file_path = '../muse/wiki.multi.pl.vec'\n",
        "\n",
        "en_embeddings = load_embeddings(en_file_path)\n",
        "pl_embeddings = load_embeddings(pl_file_path)\n",
        "\n",
        "def sentence_embedding(tokens, embeddings):\n",
        "    word_embeddings = [embeddings[word] for word in tokens if word in embeddings]\n",
        "    if len(word_embeddings) > 0:\n",
        "        return np.mean(word_embeddings, axis=0)\n",
        "    else:\n",
        "        return None\n",
        "\n",
        "def calculate_similarity(row):\n",
        "    tokens_en = row['eng'].lower().split()\n",
        "    tokens_pl = row['pol'].lower().split()\n",
        "\n",
        "    sentence_embedding_en = sentence_embedding(tokens_en, en_embeddings)\n",
        "    sentence_embedding_pl = sentence_embedding(tokens_pl, pl_embeddings)\n",
        "\n",
        "    if sentence_embedding_en is not None and sentence_embedding_pl is not None:\n",
        "        similarity = cosine_similarity([sentence_embedding_en], [sentence_embedding_pl])[0][0]\n",
        "        return similarity\n",
        "    else:\n",
        "        return None\n",
        "\n",
        "\"\"\"\"\"\n",
        "def compute_similarity(row):\n",
        "    tokens_en = row['eng'].lower().split()\n",
        "    tokens_pl = row['pol'].lower().split()\n",
        "\n",
        "    sentence_embedding_en = sentence_embedding(tokens_en, en_embeddings)\n",
        "    sentence_embedding_pl = sentence_embedding(tokens_pl, pl_embeddings)\n",
        "\n",
        "#Output the results\n",
        "    if sentence_embedding_en is not None and sentence_embedding_pl is not None:\n",
        "            similarity = np.dot(sentence_embedding_en, sentence_embedding_pl) / (np.linalg.norm(sentence_embedding_en) * np.linalg.norm(sentence_embedding_pl))\n",
        "            return similarity\n",
        "    else:\n",
        "        return None\n",
        "\"\"\"\"\"\n",
        "\n",
        "df['score'] = df.apply(calculate_similarity, axis=1)"
      ]
    },
    {
      "cell_type": "code",
      "execution_count": 100,
      "metadata": {},
      "outputs": [],
      "source": [
        "data = df.copy()"
      ]
    },
    {
      "cell_type": "code",
      "execution_count": 101,
      "metadata": {
        "id": "4ZOOtzp7LMM3"
      },
      "outputs": [],
      "source": [
        "similiraty_list = df.score.to_list()"
      ]
    },
    {
      "cell_type": "code",
      "execution_count": 102,
      "metadata": {
        "colab": {
          "base_uri": "https://localhost:8080/",
          "height": 447
        },
        "id": "2BJKt7XQLMOq",
        "outputId": "d10c84a9-123f-4e11-a9c5-b82d0f21975f"
      },
      "outputs": [
        {
          "data": {
            "text/plain": [
              "<Axes: ylabel='Count'>"
            ]
          },
          "execution_count": 102,
          "metadata": {},
          "output_type": "execute_result"
        },
        {
          "data": {
            "image/png": "[encoded data removed]",
            "text/plain": [
              "<Figure size 640x480 with 1 Axes>"
            ]
          },
          "metadata": {},
          "output_type": "display_data"
        }
      ],
      "source": [
        "sns.histplot(similiraty_list, bins=100, color='blue', edgecolor='black')"
      ]
    },
    {
      "cell_type": "code",
      "execution_count": 103,
      "metadata": {
        "colab": {
          "base_uri": "https://localhost:8080/"
        },
        "id": "52aHOqtZZqeY",
        "outputId": "9c591659-9ae1-49ec-b01b-e38da516c4a7"
      },
      "outputs": [
        {
          "name": "stdout",
          "output_type": "stream",
          "text": [
            "              id     score\n",
            "0       14466574  0.801365\n",
            "1       23812236  0.632247\n",
            "2       11834247  0.768364\n",
            "3       30649221  0.765585\n",
            "4       25824079  0.732831\n",
            "...          ...       ...\n",
            "884765   3821855  0.816138\n",
            "884766  20622458  0.740893\n",
            "884767  36160198  0.809530\n",
            "884768   5426867  0.858391\n",
            "884769   3548782  0.680194\n",
            "\n",
            "[884770 rows x 2 columns]\n"
          ]
        }
      ],
      "source": [
        "print(df[['id', 'score']])"
      ]
    },
    {
      "cell_type": "code",
      "execution_count": 104,
      "metadata": {
        "colab": {
          "base_uri": "https://localhost:8080/",
          "height": 424
        },
        "id": "Juf-DAFGaIRG",
        "outputId": "e6ca1adb-b4cd-4fd7-d704-c3b7b37f8dce"
      },
      "outputs": [
        {
          "data": {
            "text/html": [
              "<div>\n",
              "<style scoped>\n",
              "    .dataframe tbody tr th:only-of-type {\n",
              "        vertical-align: middle;\n",
              "    }\n",
              "\n",
              "    .dataframe tbody tr th {\n",
              "        vertical-align: top;\n",
              "    }\n",
              "\n",
              "    .dataframe thead th {\n",
              "        text-align: right;\n",
              "    }\n",
              "</style>\n",
              "<table border=\"1\" class=\"dataframe\">\n",
              "  <thead>\n",
              "    <tr style=\"text-align: right;\">\n",
              "      <th></th>\n",
              "      <th>id</th>\n",
              "      <th>pol</th>\n",
              "      <th>eng</th>\n",
              "      <th>Unnamed: 0</th>\n",
              "      <th>score</th>\n",
              "    </tr>\n",
              "  </thead>\n",
              "  <tbody>\n",
              "    <tr>\n",
              "      <th>262</th>\n",
              "      <td>17974287</td>\n",
              "      <td>Moulineaux Cedex Francja</td>\n",
              "      <td>Half-Scored tablet Oral use</td>\n",
              "      <td>333</td>\n",
              "      <td>0.189372</td>\n",
              "    </tr>\n",
              "    <tr>\n",
              "      <th>682</th>\n",
              "      <td>27426626</td>\n",
              "      <td>Pfizer ApS Lautrupvang 8</td>\n",
              "      <td>Lautrupvang 8 2750 Ballerup</td>\n",
              "      <td>850</td>\n",
              "      <td>0.181041</td>\n",
              "    </tr>\n",
              "    <tr>\n",
              "      <th>744</th>\n",
              "      <td>38020758</td>\n",
              "      <td>2 Landman i wsp., 2008.</td>\n",
              "      <td>2 Landman et al., 2008.</td>\n",
              "      <td>933</td>\n",
              "      <td>0.196500</td>\n",
              "    </tr>\n",
              "    <tr>\n",
              "      <th>1357</th>\n",
              "      <td>13956342</td>\n",
              "      <td>EU/ 2/ 05/ 054/ 012 2 pipetki EU/ 2/ 05/ 054/ 013 4 pipetki</td>\n",
              "      <td>EU/2/05/054/012 2 pipettes EU/2/05/054/013 4 pipettes</td>\n",
              "      <td>1655</td>\n",
              "      <td>0.099243</td>\n",
              "    </tr>\n",
              "    <tr>\n",
              "      <th>2071</th>\n",
              "      <td>26087586</td>\n",
              "      <td>Termin ważności {miesiąc/rok}</td>\n",
              "      <td>EXP {month/year}</td>\n",
              "      <td>2525</td>\n",
              "      <td>0.183931</td>\n",
              "    </tr>\n",
              "  </tbody>\n",
              "</table>\n",
              "</div>"
            ],
            "text/plain": [
              "            id                                                          pol  \\\n",
              "262   17974287                                     Moulineaux Cedex Francja   \n",
              "682   27426626                                     Pfizer ApS Lautrupvang 8   \n",
              "744   38020758                                      2 Landman i wsp., 2008.   \n",
              "1357  13956342  EU/ 2/ 05/ 054/ 012 2 pipetki EU/ 2/ 05/ 054/ 013 4 pipetki   \n",
              "2071  26087586                                Termin ważności {miesiąc/rok}   \n",
              "\n",
              "                                                        eng  Unnamed: 0  \\\n",
              "262                             Half-Scored tablet Oral use         333   \n",
              "682                             Lautrupvang 8 2750 Ballerup         850   \n",
              "744                                 2 Landman et al., 2008.         933   \n",
              "1357  EU/2/05/054/012 2 pipettes EU/2/05/054/013 4 pipettes        1655   \n",
              "2071                                       EXP {month/year}        2525   \n",
              "\n",
              "         score  \n",
              "262   0.189372  \n",
              "682   0.181041  \n",
              "744   0.196500  \n",
              "1357  0.099243  \n",
              "2071  0.183931  "
            ]
          },
          "execution_count": 104,
          "metadata": {},
          "output_type": "execute_result"
        }
      ],
      "source": [
        "df_bad_scores = data[data['score'] < 0.2]\n",
        "df_bad_scores.head()"
      ]
    },
    {
      "cell_type": "code",
      "execution_count": 105,
      "metadata": {
        "colab": {
          "base_uri": "https://localhost:8080/",
          "height": 649
        },
        "id": "UdJ5FzBhazX9",
        "outputId": "84e166a7-62df-44ab-e3ef-b76a69ccecd1"
      },
      "outputs": [
        {
          "data": {
            "text/html": [
              "<div>\n",
              "<style scoped>\n",
              "    .dataframe tbody tr th:only-of-type {\n",
              "        vertical-align: middle;\n",
              "    }\n",
              "\n",
              "    .dataframe tbody tr th {\n",
              "        vertical-align: top;\n",
              "    }\n",
              "\n",
              "    .dataframe thead th {\n",
              "        text-align: right;\n",
              "    }\n",
              "</style>\n",
              "<table border=\"1\" class=\"dataframe\">\n",
              "  <thead>\n",
              "    <tr style=\"text-align: right;\">\n",
              "      <th></th>\n",
              "      <th>id</th>\n",
              "      <th>pol</th>\n",
              "      <th>eng</th>\n",
              "      <th>Unnamed: 0</th>\n",
              "      <th>score</th>\n",
              "    </tr>\n",
              "  </thead>\n",
              "  <tbody>\n",
              "    <tr>\n",
              "      <th>0</th>\n",
              "      <td>14466574</td>\n",
              "      <td>Urządzenia do odtworzenia i podawania dostarczane są w każdym opakowaniu Helixate NexGen 250 j. m.</td>\n",
              "      <td>Medical devices for reconstitution and administration are provided with each package of Helixate NexGen 250 IU.</td>\n",
              "      <td>1</td>\n",
              "      <td>0.801365</td>\n",
              "    </tr>\n",
              "    <tr>\n",
              "      <th>5</th>\n",
              "      <td>30513235</td>\n",
              "      <td>W takim przypadku należy odstąpić od podawania hCG aby uniknąć wystąpienia ciąży mnogiej. • Kontrolowana hiperstymulacja jajników w medycznych programach wspomaganego rozrodu Stosuje się różne protokoły stymulacji.</td>\n",
              "      <td>In that case hCG should be withheld and pregnancy should be avoided in order to prevent multiple gestations. • Controlled ovarian hyperstimulation in medically assisted reproduction programs Various stimulation protocols are applied.</td>\n",
              "      <td>6</td>\n",
              "      <td>0.889540</td>\n",
              "    </tr>\n",
              "    <tr>\n",
              "      <th>11</th>\n",
              "      <td>12592030</td>\n",
              "      <td>43 Zmiana typu lub rodzaju insuliny powinna odbywać się pod ścisłą kontrolą lekarza.</td>\n",
              "      <td>Transferring a patient to another type or brand of insulin should be done under strict medical supervision.</td>\n",
              "      <td>12</td>\n",
              "      <td>0.813378</td>\n",
              "    </tr>\n",
              "    <tr>\n",
              "      <th>12</th>\n",
              "      <td>5702288</td>\n",
              "      <td>Dzieci i młodzież Nie należy podawać leku dzieciom w wieku poniżej 3 lat, ponieważ nie zostały przeprowadzone odpowiednie badania.</td>\n",
              "      <td>Children and adolescents Do not give this medicine to children under the age of 3 years because it has not been studied.</td>\n",
              "      <td>13</td>\n",
              "      <td>0.864390</td>\n",
              "    </tr>\n",
              "    <tr>\n",
              "      <th>13</th>\n",
              "      <td>9089335</td>\n",
              "      <td>Gdy białka w komórkach nowotworowych, w tym białka kontrolujące wzrost komórek, nie są rozkładane, komórki nowotworowe zostają uszkodzone i w końcu giną.</td>\n",
              "      <td>When the proteins in the cancer cells are not broken down, including the proteins that control cell growth, the cancer cells are damaged and they eventually die.</td>\n",
              "      <td>14</td>\n",
              "      <td>0.879078</td>\n",
              "    </tr>\n",
              "    <tr>\n",
              "      <th>...</th>\n",
              "      <td>...</td>\n",
              "      <td>...</td>\n",
              "      <td>...</td>\n",
              "      <td>...</td>\n",
              "      <td>...</td>\n",
              "    </tr>\n",
              "    <tr>\n",
              "      <th>884763</th>\n",
              "      <td>22715788</td>\n",
              "      <td>podobnego elektronicznego wyposażenia biurowego, w tym początkowego ze standardowym oprogramowaniem Agencji, niezbędnego na potrzeby specjalnych programów.</td>\n",
              "      <td>similar electronic office equipment and hardware, including initial equipment with the Agency’s standard software, which is needed for special programmes.</td>\n",
              "      <td>1073446</td>\n",
              "      <td>0.804681</td>\n",
              "    </tr>\n",
              "    <tr>\n",
              "      <th>884764</th>\n",
              "      <td>19426515</td>\n",
              "      <td>Szczepionki nie powinno podawać się osobom z osłabionym układem odpornościowym, z powodu takich chorób jak białaczka, chłoniak, AIDS bądź chorób osłabiających układ odpornościowy.</td>\n",
              "      <td>The vaccine should not be used in people who have problems with their immune system, either because they have a disease such as leukaemia, lymphoma, AIDS, or because they are taking medicines that affect the immune system.</td>\n",
              "      <td>1073447</td>\n",
              "      <td>0.851153</td>\n",
              "    </tr>\n",
              "    <tr>\n",
              "      <th>884765</th>\n",
              "      <td>3821855</td>\n",
              "      <td>Zmiany obecne po 1 miesiącu podawania produktu były zasadniczo odwracalne w czasie do 1 miesiąca po zaprzestaniu podawania produktu, za wyjątkiem częściowego ustąpienia niektórych zmian w rogówce.</td>\n",
              "      <td>The findings present following 1 month of dosing were largely reversible within 1 month of cessation of dosing with the exception of partial recovery for some of the corneal changes.</td>\n",
              "      <td>1073448</td>\n",
              "      <td>0.816138</td>\n",
              "    </tr>\n",
              "    <tr>\n",
              "      <th>884767</th>\n",
              "      <td>36160198</td>\n",
              "      <td>dorosłych pacjentów z nowo rozpoznaną ostrą białaczką limfoblastyczną z chromosomem Philadelphia (Ph+ ALL) w skojarzeniu z chemioterapią.</td>\n",
              "      <td>adult patients with newly diagnosed Philadelphia chromosome positive acute lymphoblastic leukaemia (Ph+ ALL) integrated with chemotherapy.</td>\n",
              "      <td>1073450</td>\n",
              "      <td>0.809530</td>\n",
              "    </tr>\n",
              "    <tr>\n",
              "      <th>884768</th>\n",
              "      <td>5426867</td>\n",
              "      <td>Podczas stosowania przewlekłego w badaniu RE–LY leki z grupy NLPZ zwiększały ryzyko krwawienia o około 50% zarówno w przypadku eteksylanu dabigatranu, jak i warfaryny.</td>\n",
              "      <td>With chronic use in the RE-LY study, NSAIDs increased the risk of bleeding by approximately 50 % on both dabigatran etexilate and warfarin.</td>\n",
              "      <td>1073451</td>\n",
              "      <td>0.858391</td>\n",
              "    </tr>\n",
              "  </tbody>\n",
              "</table>\n",
              "<p>331487 rows × 5 columns</p>\n",
              "</div>"
            ],
            "text/plain": [
              "              id  \\\n",
              "0       14466574   \n",
              "5       30513235   \n",
              "11      12592030   \n",
              "12       5702288   \n",
              "13       9089335   \n",
              "...          ...   \n",
              "884763  22715788   \n",
              "884764  19426515   \n",
              "884765   3821855   \n",
              "884767  36160198   \n",
              "884768   5426867   \n",
              "\n",
              "                                                                                                                                                                                                                           pol  \\\n",
              "0                                                                                                                           Urządzenia do odtworzenia i podawania dostarczane są w każdym opakowaniu Helixate NexGen 250 j. m.   \n",
              "5       W takim przypadku należy odstąpić od podawania hCG aby uniknąć wystąpienia ciąży mnogiej. • Kontrolowana hiperstymulacja jajników w medycznych programach wspomaganego rozrodu Stosuje się różne protokoły stymulacji.   \n",
              "11                                                                                                                                        43 Zmiana typu lub rodzaju insuliny powinna odbywać się pod ścisłą kontrolą lekarza.   \n",
              "12                                                                                          Dzieci i młodzież Nie należy podawać leku dzieciom w wieku poniżej 3 lat, ponieważ nie zostały przeprowadzone odpowiednie badania.   \n",
              "13                                                                   Gdy białka w komórkach nowotworowych, w tym białka kontrolujące wzrost komórek, nie są rozkładane, komórki nowotworowe zostają uszkodzone i w końcu giną.   \n",
              "...                                                                                                                                                                                                                        ...   \n",
              "884763                                                             podobnego elektronicznego wyposażenia biurowego, w tym początkowego ze standardowym oprogramowaniem Agencji, niezbędnego na potrzeby specjalnych programów.   \n",
              "884764                                     Szczepionki nie powinno podawać się osobom z osłabionym układem odpornościowym, z powodu takich chorób jak białaczka, chłoniak, AIDS bądź chorób osłabiających układ odpornościowy.   \n",
              "884765                    Zmiany obecne po 1 miesiącu podawania produktu były zasadniczo odwracalne w czasie do 1 miesiąca po zaprzestaniu podawania produktu, za wyjątkiem częściowego ustąpienia niektórych zmian w rogówce.   \n",
              "884767                                                                               dorosłych pacjentów z nowo rozpoznaną ostrą białaczką limfoblastyczną z chromosomem Philadelphia (Ph+ ALL) w skojarzeniu z chemioterapią.   \n",
              "884768                                                 Podczas stosowania przewlekłego w badaniu RE–LY leki z grupy NLPZ zwiększały ryzyko krwawienia o około 50% zarówno w przypadku eteksylanu dabigatranu, jak i warfaryny.   \n",
              "\n",
              "                                                                                                                                                                                                                                              eng  \\\n",
              "0                                                                                                                                 Medical devices for reconstitution and administration are provided with each package of Helixate NexGen 250 IU.   \n",
              "5       In that case hCG should be withheld and pregnancy should be avoided in order to prevent multiple gestations. • Controlled ovarian hyperstimulation in medically assisted reproduction programs Various stimulation protocols are applied.   \n",
              "11                                                                                                                                    Transferring a patient to another type or brand of insulin should be done under strict medical supervision.   \n",
              "12                                                                                                                       Children and adolescents Do not give this medicine to children under the age of 3 years because it has not been studied.   \n",
              "13                                                                              When the proteins in the cancer cells are not broken down, including the proteins that control cell growth, the cancer cells are damaged and they eventually die.   \n",
              "...                                                                                                                                                                                                                                           ...   \n",
              "884763                                                                                 similar electronic office equipment and hardware, including initial equipment with the Agency’s standard software, which is needed for special programmes.   \n",
              "884764             The vaccine should not be used in people who have problems with their immune system, either because they have a disease such as leukaemia, lymphoma, AIDS, or because they are taking medicines that affect the immune system.   \n",
              "884765                                                     The findings present following 1 month of dosing were largely reversible within 1 month of cessation of dosing with the exception of partial recovery for some of the corneal changes.   \n",
              "884767                                                                                                 adult patients with newly diagnosed Philadelphia chromosome positive acute lymphoblastic leukaemia (Ph+ ALL) integrated with chemotherapy.   \n",
              "884768                                                                                                With chronic use in the RE-LY study, NSAIDs increased the risk of bleeding by approximately 50 % on both dabigatran etexilate and warfarin.   \n",
              "\n",
              "        Unnamed: 0     score  \n",
              "0                1  0.801365  \n",
              "5                6  0.889540  \n",
              "11              12  0.813378  \n",
              "12              13  0.864390  \n",
              "13              14  0.879078  \n",
              "...            ...       ...  \n",
              "884763     1073446  0.804681  \n",
              "884764     1073447  0.851153  \n",
              "884765     1073448  0.816138  \n",
              "884767     1073450  0.809530  \n",
              "884768     1073451  0.858391  \n",
              "\n",
              "[331487 rows x 5 columns]"
            ]
          },
          "execution_count": 105,
          "metadata": {},
          "output_type": "execute_result"
        }
      ],
      "source": [
        "df_good_scores = df[df['score'] > 0.8]\n",
        "df_good_scores"
      ]
    },
    {
      "cell_type": "code",
      "execution_count": 120,
      "metadata": {},
      "outputs": [
        {
          "data": {
            "text/html": [
              "<div>\n",
              "<style scoped>\n",
              "    .dataframe tbody tr th:only-of-type {\n",
              "        vertical-align: middle;\n",
              "    }\n",
              "\n",
              "    .dataframe tbody tr th {\n",
              "        vertical-align: top;\n",
              "    }\n",
              "\n",
              "    .dataframe thead th {\n",
              "        text-align: right;\n",
              "    }\n",
              "</style>\n",
              "<table border=\"1\" class=\"dataframe\">\n",
              "  <thead>\n",
              "    <tr style=\"text-align: right;\">\n",
              "      <th></th>\n",
              "      <th>id</th>\n",
              "      <th>score</th>\n",
              "    </tr>\n",
              "  </thead>\n",
              "  <tbody>\n",
              "    <tr>\n",
              "      <th>24</th>\n",
              "      <td>6701938</td>\n",
              "      <td>NaN</td>\n",
              "    </tr>\n",
              "    <tr>\n",
              "      <th>154</th>\n",
              "      <td>15881781</td>\n",
              "      <td>NaN</td>\n",
              "    </tr>\n",
              "    <tr>\n",
              "      <th>161</th>\n",
              "      <td>31241925</td>\n",
              "      <td>NaN</td>\n",
              "    </tr>\n",
              "    <tr>\n",
              "      <th>164</th>\n",
              "      <td>38973859</td>\n",
              "      <td>NaN</td>\n",
              "    </tr>\n",
              "    <tr>\n",
              "      <th>165</th>\n",
              "      <td>24967734</td>\n",
              "      <td>NaN</td>\n",
              "    </tr>\n",
              "    <tr>\n",
              "      <th>...</th>\n",
              "      <td>...</td>\n",
              "      <td>...</td>\n",
              "    </tr>\n",
              "    <tr>\n",
              "      <th>884494</th>\n",
              "      <td>38858993</td>\n",
              "      <td>NaN</td>\n",
              "    </tr>\n",
              "    <tr>\n",
              "      <th>884600</th>\n",
              "      <td>38770226</td>\n",
              "      <td>NaN</td>\n",
              "    </tr>\n",
              "    <tr>\n",
              "      <th>884665</th>\n",
              "      <td>11075037</td>\n",
              "      <td>NaN</td>\n",
              "    </tr>\n",
              "    <tr>\n",
              "      <th>884711</th>\n",
              "      <td>10675509</td>\n",
              "      <td>NaN</td>\n",
              "    </tr>\n",
              "    <tr>\n",
              "      <th>884717</th>\n",
              "      <td>6823888</td>\n",
              "      <td>NaN</td>\n",
              "    </tr>\n",
              "  </tbody>\n",
              "</table>\n",
              "<p>16567 rows × 2 columns</p>\n",
              "</div>"
            ],
            "text/plain": [
              "              id  score\n",
              "24       6701938    NaN\n",
              "154     15881781    NaN\n",
              "161     31241925    NaN\n",
              "164     38973859    NaN\n",
              "165     24967734    NaN\n",
              "...          ...    ...\n",
              "884494  38858993    NaN\n",
              "884600  38770226    NaN\n",
              "884665  11075037    NaN\n",
              "884711  10675509    NaN\n",
              "884717   6823888    NaN\n",
              "\n",
              "[16567 rows x 2 columns]"
            ]
          },
          "execution_count": 120,
          "metadata": {},
          "output_type": "execute_result"
        }
      ],
      "source": [
        "df_nan_scores = df[df['score'].isna()]\n",
        "df_nan_scores"
      ]
    },
    {
      "cell_type": "markdown",
      "metadata": {},
      "source": [
        "90066"
      ]
    },
    {
      "cell_type": "code",
      "execution_count": 107,
      "metadata": {},
      "outputs": [
        {
          "data": {
            "text/plain": [
              "0.08390298978810456"
            ]
          },
          "execution_count": 107,
          "metadata": {},
          "output_type": "execute_result"
        }
      ],
      "source": [
        "90066/1073454"
      ]
    },
    {
      "cell_type": "code",
      "execution_count": 108,
      "metadata": {},
      "outputs": [
        {
          "data": {
            "text/plain": [
              "0.018724640301999388"
            ]
          },
          "execution_count": 108,
          "metadata": {},
          "output_type": "execute_result"
        }
      ],
      "source": [
        "16567/884770"
      ]
    },
    {
      "cell_type": "code",
      "execution_count": 109,
      "metadata": {},
      "outputs": [
        {
          "data": {
            "text/html": [
              "<div>\n",
              "<style scoped>\n",
              "    .dataframe tbody tr th:only-of-type {\n",
              "        vertical-align: middle;\n",
              "    }\n",
              "\n",
              "    .dataframe tbody tr th {\n",
              "        vertical-align: top;\n",
              "    }\n",
              "\n",
              "    .dataframe thead th {\n",
              "        text-align: right;\n",
              "    }\n",
              "</style>\n",
              "<table border=\"1\" class=\"dataframe\">\n",
              "  <thead>\n",
              "    <tr style=\"text-align: right;\">\n",
              "      <th></th>\n",
              "      <th>id</th>\n",
              "      <th>pol</th>\n",
              "      <th>eng</th>\n",
              "      <th>Unnamed: 0</th>\n",
              "      <th>score</th>\n",
              "    </tr>\n",
              "  </thead>\n",
              "  <tbody>\n",
              "    <tr>\n",
              "      <th>473</th>\n",
              "      <td>23318404</td>\n",
              "      <td>Tabletka do rozgryzania i żucia.</td>\n",
              "      <td>CHEWABLE TABLET.</td>\n",
              "      <td>589</td>\n",
              "      <td>NaN</td>\n",
              "    </tr>\n",
              "  </tbody>\n",
              "</table>\n",
              "</div>"
            ],
            "text/plain": [
              "           id                               pol               eng  Unnamed: 0  \\\n",
              "473  23318404  Tabletka do rozgryzania i żucia.  CHEWABLE TABLET.         589   \n",
              "\n",
              "     score  \n",
              "473    NaN  "
            ]
          },
          "execution_count": 109,
          "metadata": {},
          "output_type": "execute_result"
        }
      ],
      "source": [
        "df[df['id'] == 23318404]\n"
      ]
    },
    {
      "cell_type": "code",
      "execution_count": 110,
      "metadata": {},
      "outputs": [],
      "source": [
        "file_path = 'nan_scores.tsv'\n",
        "df_nan_scores.to_csv(file_path, sep='\\t', index=False)"
      ]
    },
    {
      "cell_type": "code",
      "execution_count": 111,
      "metadata": {},
      "outputs": [],
      "source": [
        "df = df[['id', 'score']]"
      ]
    },
    {
      "cell_type": "code",
      "execution_count": 112,
      "metadata": {},
      "outputs": [
        {
          "data": {
            "text/html": [
              "<div>\n",
              "<style scoped>\n",
              "    .dataframe tbody tr th:only-of-type {\n",
              "        vertical-align: middle;\n",
              "    }\n",
              "\n",
              "    .dataframe tbody tr th {\n",
              "        vertical-align: top;\n",
              "    }\n",
              "\n",
              "    .dataframe thead th {\n",
              "        text-align: right;\n",
              "    }\n",
              "</style>\n",
              "<table border=\"1\" class=\"dataframe\">\n",
              "  <thead>\n",
              "    <tr style=\"text-align: right;\">\n",
              "      <th></th>\n",
              "      <th>id</th>\n",
              "      <th>score</th>\n",
              "    </tr>\n",
              "  </thead>\n",
              "  <tbody>\n",
              "    <tr>\n",
              "      <th>0</th>\n",
              "      <td>14466574</td>\n",
              "      <td>0.801365</td>\n",
              "    </tr>\n",
              "    <tr>\n",
              "      <th>1</th>\n",
              "      <td>23812236</td>\n",
              "      <td>0.632247</td>\n",
              "    </tr>\n",
              "    <tr>\n",
              "      <th>2</th>\n",
              "      <td>11834247</td>\n",
              "      <td>0.768364</td>\n",
              "    </tr>\n",
              "    <tr>\n",
              "      <th>3</th>\n",
              "      <td>30649221</td>\n",
              "      <td>0.765585</td>\n",
              "    </tr>\n",
              "    <tr>\n",
              "      <th>4</th>\n",
              "      <td>25824079</td>\n",
              "      <td>0.732831</td>\n",
              "    </tr>\n",
              "    <tr>\n",
              "      <th>...</th>\n",
              "      <td>...</td>\n",
              "      <td>...</td>\n",
              "    </tr>\n",
              "    <tr>\n",
              "      <th>884765</th>\n",
              "      <td>3821855</td>\n",
              "      <td>0.816138</td>\n",
              "    </tr>\n",
              "    <tr>\n",
              "      <th>884766</th>\n",
              "      <td>20622458</td>\n",
              "      <td>0.740893</td>\n",
              "    </tr>\n",
              "    <tr>\n",
              "      <th>884767</th>\n",
              "      <td>36160198</td>\n",
              "      <td>0.809530</td>\n",
              "    </tr>\n",
              "    <tr>\n",
              "      <th>884768</th>\n",
              "      <td>5426867</td>\n",
              "      <td>0.858391</td>\n",
              "    </tr>\n",
              "    <tr>\n",
              "      <th>884769</th>\n",
              "      <td>3548782</td>\n",
              "      <td>0.680194</td>\n",
              "    </tr>\n",
              "  </tbody>\n",
              "</table>\n",
              "<p>884770 rows × 2 columns</p>\n",
              "</div>"
            ],
            "text/plain": [
              "              id     score\n",
              "0       14466574  0.801365\n",
              "1       23812236  0.632247\n",
              "2       11834247  0.768364\n",
              "3       30649221  0.765585\n",
              "4       25824079  0.732831\n",
              "...          ...       ...\n",
              "884765   3821855  0.816138\n",
              "884766  20622458  0.740893\n",
              "884767  36160198  0.809530\n",
              "884768   5426867  0.858391\n",
              "884769   3548782  0.680194\n",
              "\n",
              "[884770 rows x 2 columns]"
            ]
          },
          "execution_count": 112,
          "metadata": {},
          "output_type": "execute_result"
        }
      ],
      "source": [
        "df.rename(columns={\"translation_score\": \"score\"})"
      ]
    },
    {
      "cell_type": "code",
      "execution_count": 113,
      "metadata": {},
      "outputs": [
        {
          "data": {
            "text/plain": [
              "<Axes: xlabel='score'>"
            ]
          },
          "execution_count": 113,
          "metadata": {},
          "output_type": "execute_result"
        },
        {
          "data": {
            "image/png": "[encoded data removed]",
            "text/plain": [
              "<Figure size 640x480 with 1 Axes>"
            ]
          },
          "metadata": {},
          "output_type": "display_data"
        }
      ],
      "source": [
        "sns.boxplot(x=df[\"score\"])"
      ]
    },
    {
      "cell_type": "code",
      "execution_count": 114,
      "metadata": {},
      "outputs": [
        {
          "name": "stdout",
          "output_type": "stream",
          "text": [
            "Q1: 0.6441802408267152, Q2: 0.7377979293014657, Q3: 0.7956149541225417, Q4: 0.8395630686986932, Q5: 0.948470947044919\n"
          ]
        }
      ],
      "source": [
        "# Calculate quintiles using the quantile method\n",
        "q1 = df['score'].quantile(0.20)  # 20th percentile (first quintile)\n",
        "q2 = df['score'].quantile(0.40)  # 40th percentile (second quintile)\n",
        "q3 = df['score'].quantile(0.60)  # 60th percentile (third quintile)\n",
        "q4 = df['score'].quantile(0.80)  # 80th percentile (fourth quintile)\n",
        "q5 = df['score'].quantile(1.00)  # 100th percentile (fifth quintile)\n",
        "\n",
        "print(f'Q1: {q1}, Q2: {q2}, Q3: {q3}, Q4: {q4}, Q5: {q5}')"
      ]
    },
    {
      "cell_type": "code",
      "execution_count": 115,
      "metadata": {},
      "outputs": [],
      "source": [
        "MUSE_above_quantile_20 = df[df['score'] > q1]\n",
        "MUSE_above_quantile_40 = df[df['score'] > q2]\n",
        "MUSE_above_quantile_60 = df[df['score'] > q3]\n",
        "MUSE_above_quantile_80 = df[df['score'] > q4]\n"
      ]
    },
    {
      "cell_type": "code",
      "execution_count": 116,
      "metadata": {},
      "outputs": [],
      "source": [
        "MUSE_above_quantile_20.to_csv(\"MUSE_above_quantile_20.tsv\", sep='\\t', index=False)\n",
        "MUSE_above_quantile_40.to_csv(\"MUSE_above_quantile_40.tsv\", sep='\\t', index=False)\n",
        "MUSE_above_quantile_60.to_csv(\"MUSE_above_quantile_60.tsv\", sep='\\t', index=False)\n",
        "MUSE_above_quantile_80.to_csv(\"MUSE_above_quantile_80.tsv\", sep='\\t', index=False)"
      ]
    },
    {
      "cell_type": "code",
      "execution_count": 117,
      "metadata": {
        "id": "AUMVLk2ocnVp"
      },
      "outputs": [],
      "source": [
        "file_path = 'scores.tsv'\n",
        "df.to_csv(file_path, sep='\\t', index=False)"
      ]
    }
  ],
  "metadata": {
    "colab": {
      "provenance": []
    },
    "kernelspec": {
      "display_name": "Python 3",
      "name": "python3"
    },
    "language_info": {
      "codemirror_mode": {
        "name": "ipython",
        "version": 3
      },
      "file_extension": ".py",
      "mimetype": "text/x-python",
      "name": "python",
      "nbconvert_exporter": "python",
      "pygments_lexer": "ipython3",
      "version": "3.10.12"
    }
  },
  "nbformat": 4,
  "nbformat_minor": 0
}
